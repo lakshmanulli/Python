{
 "cells": [
  {
   "cell_type": "markdown",
   "metadata": {},
   "source": [
    "# 1. Arithmetic Operators\n",
    "Addition, Subtraction, Multiplication, Division, Floor Division(//), Modulus(%), Exponentiation(**)."
   ]
  },
  {
   "cell_type": "code",
   "execution_count": 4,
   "metadata": {},
   "outputs": [
    {
     "name": "stdout",
     "output_type": "stream",
     "text": [
      "addition is :  25\n",
      "Subtraction is :  15\n",
      "Multiplication is :  100\n",
      "Division is :  4.0\n",
      "Floor Division is :  4\n",
      "Modulus is :  0\n",
      "Exponentiation is :  3200000\n"
     ]
    }
   ],
   "source": [
    "a=20\n",
    "b=5\n",
    "print(\"addition is : \",a+b)\n",
    "print(\"Subtraction is : \",a-b)\n",
    "print(\"Multiplication is : \",a*b)\n",
    "print(\"Division is : \",a/b)\n",
    "print(\"Floor Division is : \",(a//b))\n",
    "print(\"Modulus is : \",a%b)\n",
    "print(\"Exponentiation is : \",a**b)"
   ]
  },
  {
   "cell_type": "markdown",
   "metadata": {},
   "source": [
    "# 2. Comparision Operators\n",
    "\n",
    "Equal to,Not equal to,Greater than,\tLess than,\tGreater than or equal to,\tLess than or equal to"
   ]
  },
  {
   "cell_type": "code",
   "execution_count": 6,
   "metadata": {},
   "outputs": [
    {
     "name": "stdout",
     "output_type": "stream",
     "text": [
      "Equal to :  False\n",
      "Not equal to:  True\n",
      "Greater than:  True\n",
      "Less than:  False\n"
     ]
    }
   ],
   "source": [
    "print(\"Equal to : \",a==b)\n",
    "print(\"Not equal to: \",a!=b)\n",
    "print(\"Greater than: \",a>b)\n",
    "print(\"Less than: \",a<b)"
   ]
  },
  {
   "cell_type": "code",
   "execution_count": null,
   "metadata": {},
   "outputs": [],
   "source": []
  }
 ],
 "metadata": {
  "kernelspec": {
   "display_name": "Python 3",
   "language": "python",
   "name": "python3"
  },
  "language_info": {
   "codemirror_mode": {
    "name": "ipython",
    "version": 3
   },
   "file_extension": ".py",
   "mimetype": "text/x-python",
   "name": "python",
   "nbconvert_exporter": "python",
   "pygments_lexer": "ipython3",
   "version": "3.10.7"
  }
 },
 "nbformat": 4,
 "nbformat_minor": 2
}

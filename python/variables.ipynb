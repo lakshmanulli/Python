{
 "cells": [
  {
   "cell_type": "markdown",
   "metadata": {},
   "source": [
    "# Variable\n",
    "A variable is a name which can assign a value, then can store a memory location\n",
    "\n",
    "name = value\n"
   ]
  },
  {
   "cell_type": "code",
   "execution_count": 1,
   "metadata": {},
   "outputs": [
    {
     "name": "stdout",
     "output_type": "stream",
     "text": [
      "10\n",
      "20\n"
     ]
    }
   ],
   "source": [
    "a = 10\n",
    "b = 20\n",
    "print(a)\n",
    "print(b)"
   ]
  },
  {
   "cell_type": "code",
   "execution_count": 2,
   "metadata": {},
   "outputs": [
    {
     "data": {
      "text/plain": [
       "10"
      ]
     },
     "execution_count": 2,
     "metadata": {},
     "output_type": "execute_result"
    }
   ],
   "source": [
    "a"
   ]
  },
  {
   "cell_type": "code",
   "execution_count": 7,
   "metadata": {},
   "outputs": [
    {
     "name": "stdout",
     "output_type": "stream",
     "text": [
      "10\n",
      "20\n",
      "30\n"
     ]
    }
   ],
   "source": [
    "# which can assign a multiple variables at a time\n",
    "a,b,c =10,20,30\n",
    "print(a)\n",
    "print(b)\n",
    "print(c)"
   ]
  },
  {
   "cell_type": "code",
   "execution_count": 12,
   "metadata": {},
   "outputs": [
    {
     "name": "stdout",
     "output_type": "stream",
     "text": [
      "10\n",
      "10\n"
     ]
    }
   ],
   "source": [
    "#which can assign a same value at different variables\n",
    "a=b=c=10\n",
    "print(a)\n",
    "print(b)"
   ]
  },
  {
   "cell_type": "markdown",
   "metadata": {},
   "source": [
    "# Data Types of python\n",
    "1).Numbers --> int, float, complex\n",
    "\n",
    "2).Strings\n",
    "\n",
    "3).list\n",
    "\n",
    "4).tuple\n",
    "\n",
    "5).dictionary\n",
    "\n",
    "6).sets\n",
    "\n",
    "7).none"
   ]
  },
  {
   "cell_type": "markdown",
   "metadata": {},
   "source": [
    "## Numbers\n",
    "Integers, float point, complex data types\n",
    "\n",
    "which type of datatype \n",
    "\n",
    "syntax: type(var_name)\n",
    "\n"
   ]
  },
  {
   "cell_type": "code",
   "execution_count": 15,
   "metadata": {},
   "outputs": [
    {
     "name": "stdout",
     "output_type": "stream",
     "text": [
      "10\n",
      "999\n",
      "<class 'int'>\n"
     ]
    }
   ],
   "source": [
    "#integer\n",
    "a = 10\n",
    "print(a)\n",
    "b = 999\n",
    "print(b)\n",
    "print(type(a))"
   ]
  },
  {
   "cell_type": "code",
   "execution_count": 18,
   "metadata": {},
   "outputs": [
    {
     "name": "stdout",
     "output_type": "stream",
     "text": [
      "10.34 1537.97687\n",
      "<class 'float'>\n"
     ]
    }
   ],
   "source": [
    "#floating point\n",
    "k = 10.34\n",
    "l = 1537.97687\n",
    "print(k,l)\n",
    "print(type(k))"
   ]
  },
  {
   "cell_type": "code",
   "execution_count": 20,
   "metadata": {},
   "outputs": [
    {
     "name": "stdout",
     "output_type": "stream",
     "text": [
      "(4+5j)\n",
      "(98+24j)\n",
      "(102+29j)\n",
      "(94+19j)\n"
     ]
    }
   ],
   "source": [
    "#complex datatype\n",
    "x = 4+5j\n",
    "y = 98+24j\n",
    "print(x)\n",
    "print(y)\n",
    "print(x+y)\n",
    "print(y-x)"
   ]
  },
  {
   "cell_type": "code",
   "execution_count": 24,
   "metadata": {},
   "outputs": [
    {
     "name": "stdout",
     "output_type": "stream",
     "text": [
      "hello python\n",
      "<class 'str'>\n"
     ]
    }
   ],
   "source": [
    "#strings --> sequence of characters or collection of characters enclosed with a single qoute or double qoute\n",
    "\n",
    "s = \"hello\"\n",
    "s1 = 'python'\n",
    "print(s,  s1)\n",
    "print(type(s))"
   ]
  },
  {
   "cell_type": "code",
   "execution_count": 28,
   "metadata": {},
   "outputs": [
    {
     "name": "stdout",
     "output_type": "stream",
     "text": [
      "h\n",
      "e\n",
      "l\n",
      "l\n"
     ]
    }
   ],
   "source": [
    "#accessing of string element or character positive index values\n",
    "print(s[0])\n",
    "print(s[1])\n",
    "print(s[2])\n",
    "print(s[3])"
   ]
  },
  {
   "cell_type": "code",
   "execution_count": 29,
   "metadata": {},
   "outputs": [
    {
     "name": "stdout",
     "output_type": "stream",
     "text": [
      "o\n",
      "l\n",
      "l\n",
      "e\n",
      "h\n"
     ]
    }
   ],
   "source": [
    "#accessing of string element or character negative index values\n",
    "print(s[-1])\n",
    "print(s[-2])\n",
    "print(s[-3])\n",
    "print(s[-4])\n",
    "print(s[-5])"
   ]
  },
  {
   "cell_type": "code",
   "execution_count": 38,
   "metadata": {},
   "outputs": [
    {
     "name": "stdout",
     "output_type": "stream",
     "text": [
      "pytho\n",
      "ython\n",
      "pyth\n",
      "python\n",
      "python\n",
      "pto\n",
      "nohtyp\n",
      "<class 'str'>\n"
     ]
    }
   ],
   "source": [
    "#string slice\n",
    "#syntax -->  string[start:end:step]\n",
    "\n",
    "print(s1[0:5])\n",
    "print(s1[1:])\n",
    "print(s1[:4])\n",
    "print(s1[:])\n",
    "print(s1[::1])\n",
    "print(s1[::2])\n",
    "print(s1[::-1])\n",
    "\n",
    "print(type(s1))"
   ]
  },
  {
   "cell_type": "code",
   "execution_count": 39,
   "metadata": {},
   "outputs": [
    {
     "name": "stdout",
     "output_type": "stream",
     "text": [
      "python is a high level language\n"
     ]
    }
   ],
   "source": [
    "print(f'{s1} is a high level language') # formated string"
   ]
  },
  {
   "cell_type": "code",
   "execution_count": 40,
   "metadata": {},
   "outputs": [
    {
     "name": "stdout",
     "output_type": "stream",
     "text": [
      "python programming is high level language. It is developed by Guido van Rossum in 1991\n"
     ]
    }
   ],
   "source": [
    "s = \"python programming\"\n",
    "year = 1991\n",
    "name = \"Guido van Rossum\"\n",
    "print(f'{s} is high level language. It is developed by {name} in {year}')"
   ]
  },
  {
   "cell_type": "markdown",
   "metadata": {},
   "source": [
    "#accessing of string element or character"
   ]
  },
  {
   "cell_type": "markdown",
   "metadata": {},
   "source": []
  }
 ],
 "metadata": {
  "kernelspec": {
   "display_name": "base",
   "language": "python",
   "name": "python3"
  },
  "language_info": {
   "codemirror_mode": {
    "name": "ipython",
    "version": 3
   },
   "file_extension": ".py",
   "mimetype": "text/x-python",
   "name": "python",
   "nbconvert_exporter": "python",
   "pygments_lexer": "ipython3",
   "version": "3.11.5"
  }
 },
 "nbformat": 4,
 "nbformat_minor": 2
}
